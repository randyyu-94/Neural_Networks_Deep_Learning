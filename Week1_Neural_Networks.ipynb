{
 "cells": [
  {
   "attachments": {},
   "cell_type": "markdown",
   "metadata": {},
   "source": [
    "# **Module 1: Introduction to Deep Learning**"
   ]
  },
  {
   "attachments": {},
   "cell_type": "markdown",
   "metadata": {},
   "source": [
    "#### 1. Basic concepts of Neural Networks (NN)\n",
    "\n",
    "- **Deep learning (DL)** also refers to *training neural networks (NN)*.  \n",
    "- **Neural network function**:   \n",
    "$\\qquad$ x->node->y (from the input *x* to a node which computes to generate *y*)  \n",
    "- **ReLU (Rectified linear unit) function**:  \n",
    "![ReLU](resource%20database%20for%20MD%20notes/Week1/ezgif-3-e2770704ae.jpg)  \n",
    "$\\qquad$ ***Note***: Rectify indicates correct the original *linear* pattern to take a minimum of 0\n",
    "- **Structure of a slightly complicated NN**:  \n",
    "![NNstructure](resource%20database%20for%20MD%20notes/Week1/NNstructure.png)  \n",
    "    - ***input layer***: the layer that contains all inputs *x*  \n",
    "    - ***input layer features***: the input features, i.e., all *x*s in the *input layer*  \n",
    "    - ***hidden layer***: the layer(s) that exist(s) between the *input layer* and the output *y*  \n",
    "    - ***hidden units***: the units in the *hidden layer*, takes all input features, densely connected with *input layer* (i.e., every *input layer feature* is connected with every *hidden layer feature*)"
   ]
  },
  {
   "attachments": {},
   "cell_type": "markdown",
   "metadata": {},
   "source": [
    "#### 2. Supervised Learning with NN\n",
    "- **Supervised machine learning (ML)**:  \n",
    "$\\qquad$ a type of *machine learning* where an algorithm learns to make predictions based on a *regression/classification model* built using labeled training data (input = *features*, output = *labels*)\n",
    "- **Types of NN models**:\n",
    "    - ***Standard NN***:              applied in *real estate* and *online advertising* (numerical/categorical inputs -> numerical/categorical output)  \n",
    "    - ***Convolutional NN (CNN)***:   applied in *image applications* (2D-array -> categorical output)  \n",
    "    - ***Recurrent NN (RNN)***:       applied in *sequence data* (e.g., audio: 1D time series, language: 1D words) (1D-array -> semantic output)\n",
    "    - ***Customized/Hybrid NN***:     applied in *complex applications* (e.g., autonomous driving using both **images** and **radar info**)\n",
    "    ![NNexamples](resource%20database%20for%20MD%20notes/Week1/NNexamples.jpg)\n",
    "- **Data structure**:  \n",
    "    - ***Structured data***: each of the features are well defined (likely a *database*)  \n",
    "    - ***Unstructured data***: features are not manifest and should be further interpreted (e.g., *audio*, *images*, *text*)\n",
    "        - People are better in understanding *unstructured data* than *structured data*\n",
    "        - Recent years, new applications like *speech recognition*, *image recognition*, *Natural language processing (NLP)* on text are developed because of DL and NN which can better interpret *unstructured data*"
   ]
  },
  {
   "attachments": {},
   "cell_type": "markdown",
   "metadata": {},
   "source": [
    "#### 3. Recent development of DL and NN\n",
    "- **How different models are driven by the amount of data**:  \n",
    "![learningprogress vs models](resource%20database%20for%20MD%20notes/Week1/learningprogress_models.jpg)\n",
    "    - *Scale* (of both *neural network* and *database*: *m*) drives deep learning progress  \n",
    "    - In the regime of *small training sets*, the performance doesn't rely much on the scale of *learning algorithm* , but rely more on the skill at handling features and other details of algorithms\n",
    "    - In the regime of *large training sets*, the performance of *large NN model* dominates other approaches\n",
    "- **How learning speed is affected by algorithms**:\n",
    "    - By switching from a *sigmoid* function to a *ReLU* function in the *activation function* of *NN*, the learning speed using *gradient descent* approach increased rapidly\n",
    "- **Why learning speed and computation speed is important**:\n",
    "    - Accelerates the cycle **idea->code->experiment->idea** by reducing the time in code processing (experiment)"
   ]
  }
 ],
 "metadata": {
  "language_info": {
   "name": "python"
  },
  "orig_nbformat": 4
 },
 "nbformat": 4,
 "nbformat_minor": 2
}
