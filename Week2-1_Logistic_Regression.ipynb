{
 "cells": [
  {
   "attachments": {},
   "cell_type": "markdown",
   "metadata": {},
   "source": [
    "# **Module 2: Basics of Neural Networks**"
   ]
  },
  {
   "attachments": {},
   "cell_type": "markdown",
   "metadata": {},
   "source": [
    "## Section I Logistic Regression as a Neural Network"
   ]
  },
  {
   "attachments": {},
   "cell_type": "markdown",
   "metadata": {},
   "source": [
    "#### 1. Binary Classification\n",
    "\n",
    "- **Concept**: A classifier that can produces a label *y* with 0 (absent) or 1 (present) from a list of feature set *x* with *n* features\n",
    "- ***Notation***: \n",
    "    - (x,y), $x \\in \\textbf{R}^{n_{x}}$, $y \\in \\{0,1\\}$\n",
    "        - **for *m* training example**: ($x^{(1)}$,$y^{(1)}$), ($x^{(2)}$,$y^{(2)}$),... ($x^{(m)}$,$y^{(m)}$)\n",
    "    - $X = [x^{(1)},x^{(2)},...x^{(m)}]$, where $x^{(i)} = [x^{(i)}_{1},x^{(i)}_{2},...x^{(i)}_{n}]^T$"
   ]
  },
  {
   "cell_type": "markdown",
   "metadata": {},
   "source": []
  }
 ],
 "metadata": {
  "language_info": {
   "name": "python"
  },
  "orig_nbformat": 4
 },
 "nbformat": 4,
 "nbformat_minor": 2
}
